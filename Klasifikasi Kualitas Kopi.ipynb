{
 "cells": [
  {
   "cell_type": "code",
   "execution_count": 2,
   "id": "a093c86d-fca4-4aaf-ae02-2a8435b105ff",
   "metadata": {},
   "outputs": [
    {
     "data": {
      "text/html": [
       "<div>\n",
       "<style scoped>\n",
       "    .dataframe tbody tr th:only-of-type {\n",
       "        vertical-align: middle;\n",
       "    }\n",
       "\n",
       "    .dataframe tbody tr th {\n",
       "        vertical-align: top;\n",
       "    }\n",
       "\n",
       "    .dataframe thead th {\n",
       "        text-align: right;\n",
       "    }\n",
       "</style>\n",
       "<table border=\"1\" class=\"dataframe\">\n",
       "  <thead>\n",
       "    <tr style=\"text-align: right;\">\n",
       "      <th></th>\n",
       "      <th>Kadar Kafein</th>\n",
       "      <th>Tingkat Keasaman</th>\n",
       "      <th>Jenis Proses</th>\n",
       "      <th>Kualitas Kopi</th>\n",
       "    </tr>\n",
       "  </thead>\n",
       "  <tbody>\n",
       "    <tr>\n",
       "      <th>0</th>\n",
       "      <td>71.676050</td>\n",
       "      <td>4.505419</td>\n",
       "      <td>Honey</td>\n",
       "      <td>Buruk</td>\n",
       "    </tr>\n",
       "    <tr>\n",
       "      <th>1</th>\n",
       "      <td>89.899105</td>\n",
       "      <td>4.777716</td>\n",
       "      <td>Honey</td>\n",
       "      <td>Buruk</td>\n",
       "    </tr>\n",
       "    <tr>\n",
       "      <th>2</th>\n",
       "      <td>101.782740</td>\n",
       "      <td>5.987926</td>\n",
       "      <td>Washed</td>\n",
       "      <td>Sedang</td>\n",
       "    </tr>\n",
       "    <tr>\n",
       "      <th>3</th>\n",
       "      <td>112.958351</td>\n",
       "      <td>5.145615</td>\n",
       "      <td>Natural</td>\n",
       "      <td>Baik</td>\n",
       "    </tr>\n",
       "    <tr>\n",
       "      <th>4</th>\n",
       "      <td>68.571363</td>\n",
       "      <td>4.934300</td>\n",
       "      <td>Honey</td>\n",
       "      <td>Buruk</td>\n",
       "    </tr>\n",
       "    <tr>\n",
       "      <th>...</th>\n",
       "      <td>...</td>\n",
       "      <td>...</td>\n",
       "      <td>...</td>\n",
       "      <td>...</td>\n",
       "    </tr>\n",
       "    <tr>\n",
       "      <th>295</th>\n",
       "      <td>105.346259</td>\n",
       "      <td>5.511636</td>\n",
       "      <td>Washed</td>\n",
       "      <td>Sedang</td>\n",
       "    </tr>\n",
       "    <tr>\n",
       "      <th>296</th>\n",
       "      <td>114.917455</td>\n",
       "      <td>5.150439</td>\n",
       "      <td>Natural</td>\n",
       "      <td>Baik</td>\n",
       "    </tr>\n",
       "    <tr>\n",
       "      <th>297</th>\n",
       "      <td>99.558838</td>\n",
       "      <td>5.612135</td>\n",
       "      <td>Washed</td>\n",
       "      <td>Sedang</td>\n",
       "    </tr>\n",
       "    <tr>\n",
       "      <th>298</th>\n",
       "      <td>88.621531</td>\n",
       "      <td>4.803087</td>\n",
       "      <td>Honey</td>\n",
       "      <td>Buruk</td>\n",
       "    </tr>\n",
       "    <tr>\n",
       "      <th>299</th>\n",
       "      <td>98.192872</td>\n",
       "      <td>5.504599</td>\n",
       "      <td>Washed</td>\n",
       "      <td>Sedang</td>\n",
       "    </tr>\n",
       "  </tbody>\n",
       "</table>\n",
       "<p>300 rows × 4 columns</p>\n",
       "</div>"
      ],
      "text/plain": [
       "     Kadar Kafein  Tingkat Keasaman Jenis Proses Kualitas Kopi\n",
       "0       71.676050          4.505419        Honey         Buruk\n",
       "1       89.899105          4.777716        Honey         Buruk\n",
       "2      101.782740          5.987926       Washed        Sedang\n",
       "3      112.958351          5.145615      Natural          Baik\n",
       "4       68.571363          4.934300        Honey         Buruk\n",
       "..            ...               ...          ...           ...\n",
       "295    105.346259          5.511636       Washed        Sedang\n",
       "296    114.917455          5.150439      Natural          Baik\n",
       "297     99.558838          5.612135       Washed        Sedang\n",
       "298     88.621531          4.803087        Honey         Buruk\n",
       "299     98.192872          5.504599       Washed        Sedang\n",
       "\n",
       "[300 rows x 4 columns]"
      ]
     },
     "execution_count": 2,
     "metadata": {},
     "output_type": "execute_result"
    }
   ],
   "source": [
    "# import pandas\n",
    "import pandas as pd\n",
    "\n",
    "# panggil dataset kopi\n",
    "df = pd.read_csv(\"dataset_kualitas_kopi.csv\")\n",
    "\n",
    "# tampilkan dataset kopi yang sudah diubah menjadi dataframe\n",
    "df"
   ]
  },
  {
   "cell_type": "code",
   "execution_count": 14,
   "id": "431aa34c-9f22-4f20-8deb-3de0b1398394",
   "metadata": {},
   "outputs": [
    {
     "data": {
      "text/plain": [
       "(300, 4)"
      ]
     },
     "execution_count": 14,
     "metadata": {},
     "output_type": "execute_result"
    }
   ],
   "source": [
    "# menunjukan jumlah baris dan kolom\n",
    "df.shape"
   ]
  },
  {
   "cell_type": "code",
   "execution_count": 18,
   "id": "5a20eb5f-d0fc-4bc7-be40-e158a6ffe3d6",
   "metadata": {},
   "outputs": [
    {
     "data": {
      "text/plain": [
       "Index(['Kadar Kafein', 'Tingkat Keasaman', 'Jenis Proses', 'Kualitas Kopi'], dtype='object')"
      ]
     },
     "execution_count": 18,
     "metadata": {},
     "output_type": "execute_result"
    }
   ],
   "source": [
    "# menunjukan isi/nilai/daftar dari setiap kolom\n",
    "df.columns"
   ]
  },
  {
   "cell_type": "code",
   "execution_count": 17,
   "id": "a30cfd1d-6774-4614-8314-21b30004ab67",
   "metadata": {},
   "outputs": [
    {
     "data": {
      "text/plain": [
       "Kadar Kafein        float64\n",
       "Tingkat Keasaman    float64\n",
       "Jenis Proses         object\n",
       "Kualitas Kopi        object\n",
       "dtype: object"
      ]
     },
     "execution_count": 17,
     "metadata": {},
     "output_type": "execute_result"
    }
   ],
   "source": [
    "# menampilkan kolom dan tipe datanya\n",
    "df.dtypes"
   ]
  },
  {
   "cell_type": "code",
   "execution_count": 21,
   "id": "5f81c607-7ccc-4372-a0e0-fcf1b9fd29c1",
   "metadata": {},
   "outputs": [
    {
     "name": "stdout",
     "output_type": "stream",
     "text": [
      "<class 'pandas.core.frame.DataFrame'>\n",
      "RangeIndex: 300 entries, 0 to 299\n",
      "Data columns (total 4 columns):\n",
      " #   Column            Non-Null Count  Dtype  \n",
      "---  ------            --------------  -----  \n",
      " 0   Kadar Kafein      300 non-null    float64\n",
      " 1   Tingkat Keasaman  300 non-null    float64\n",
      " 2   Jenis Proses      300 non-null    object \n",
      " 3   Kualitas Kopi     300 non-null    object \n",
      "dtypes: float64(2), object(2)\n",
      "memory usage: 9.5+ KB\n"
     ]
    }
   ],
   "source": [
    "# tampilkan struktur dataframe\n",
    "df.info()"
   ]
  },
  {
   "cell_type": "code",
   "execution_count": 22,
   "id": "6a131898-82ee-4ee9-b9a4-614dc27f6b37",
   "metadata": {},
   "outputs": [
    {
     "data": {
      "text/html": [
       "<div>\n",
       "<style scoped>\n",
       "    .dataframe tbody tr th:only-of-type {\n",
       "        vertical-align: middle;\n",
       "    }\n",
       "\n",
       "    .dataframe tbody tr th {\n",
       "        vertical-align: top;\n",
       "    }\n",
       "\n",
       "    .dataframe thead th {\n",
       "        text-align: right;\n",
       "    }\n",
       "</style>\n",
       "<table border=\"1\" class=\"dataframe\">\n",
       "  <thead>\n",
       "    <tr style=\"text-align: right;\">\n",
       "      <th></th>\n",
       "      <th>Kadar Kafein</th>\n",
       "      <th>Tingkat Keasaman</th>\n",
       "    </tr>\n",
       "  </thead>\n",
       "  <tbody>\n",
       "    <tr>\n",
       "      <th>count</th>\n",
       "      <td>300.000000</td>\n",
       "      <td>300.000000</td>\n",
       "    </tr>\n",
       "    <tr>\n",
       "      <th>mean</th>\n",
       "      <td>94.880478</td>\n",
       "      <td>5.255010</td>\n",
       "    </tr>\n",
       "    <tr>\n",
       "      <th>std</th>\n",
       "      <td>18.612343</td>\n",
       "      <td>0.423348</td>\n",
       "    </tr>\n",
       "    <tr>\n",
       "      <th>min</th>\n",
       "      <td>60.340609</td>\n",
       "      <td>4.505419</td>\n",
       "    </tr>\n",
       "    <tr>\n",
       "      <th>25%</th>\n",
       "      <td>80.885090</td>\n",
       "      <td>4.912739</td>\n",
       "    </tr>\n",
       "    <tr>\n",
       "      <th>50%</th>\n",
       "      <td>96.469407</td>\n",
       "      <td>5.249464</td>\n",
       "    </tr>\n",
       "    <tr>\n",
       "      <th>75%</th>\n",
       "      <td>108.570401</td>\n",
       "      <td>5.622462</td>\n",
       "    </tr>\n",
       "    <tr>\n",
       "      <th>max</th>\n",
       "      <td>129.569514</td>\n",
       "      <td>5.995027</td>\n",
       "    </tr>\n",
       "  </tbody>\n",
       "</table>\n",
       "</div>"
      ],
      "text/plain": [
       "       Kadar Kafein  Tingkat Keasaman\n",
       "count    300.000000        300.000000\n",
       "mean      94.880478          5.255010\n",
       "std       18.612343          0.423348\n",
       "min       60.340609          4.505419\n",
       "25%       80.885090          4.912739\n",
       "50%       96.469407          5.249464\n",
       "75%      108.570401          5.622462\n",
       "max      129.569514          5.995027"
      ]
     },
     "execution_count": 22,
     "metadata": {},
     "output_type": "execute_result"
    }
   ],
   "source": [
    "# tampilkan informasi statistik\n",
    "df.describe()"
   ]
  },
  {
   "cell_type": "code",
   "execution_count": 25,
   "id": "a43dc2db-da19-4c22-b691-acf4e227256f",
   "metadata": {},
   "outputs": [
    {
     "data": {
      "text/html": [
       "<div>\n",
       "<style scoped>\n",
       "    .dataframe tbody tr th:only-of-type {\n",
       "        vertical-align: middle;\n",
       "    }\n",
       "\n",
       "    .dataframe tbody tr th {\n",
       "        vertical-align: top;\n",
       "    }\n",
       "\n",
       "    .dataframe thead th {\n",
       "        text-align: right;\n",
       "    }\n",
       "</style>\n",
       "<table border=\"1\" class=\"dataframe\">\n",
       "  <thead>\n",
       "    <tr style=\"text-align: right;\">\n",
       "      <th></th>\n",
       "      <th>Kadar Kafein</th>\n",
       "      <th>Tingkat Keasaman</th>\n",
       "      <th>Jenis Proses</th>\n",
       "      <th>Kualitas Kopi</th>\n",
       "    </tr>\n",
       "  </thead>\n",
       "  <tbody>\n",
       "    <tr>\n",
       "      <th>0</th>\n",
       "      <td>71.676050</td>\n",
       "      <td>4.505419</td>\n",
       "      <td>Honey</td>\n",
       "      <td>Buruk</td>\n",
       "    </tr>\n",
       "    <tr>\n",
       "      <th>1</th>\n",
       "      <td>89.899105</td>\n",
       "      <td>4.777716</td>\n",
       "      <td>Honey</td>\n",
       "      <td>Buruk</td>\n",
       "    </tr>\n",
       "    <tr>\n",
       "      <th>2</th>\n",
       "      <td>101.782740</td>\n",
       "      <td>5.987926</td>\n",
       "      <td>Washed</td>\n",
       "      <td>Sedang</td>\n",
       "    </tr>\n",
       "    <tr>\n",
       "      <th>3</th>\n",
       "      <td>112.958351</td>\n",
       "      <td>5.145615</td>\n",
       "      <td>Natural</td>\n",
       "      <td>Baik</td>\n",
       "    </tr>\n",
       "    <tr>\n",
       "      <th>4</th>\n",
       "      <td>68.571363</td>\n",
       "      <td>4.934300</td>\n",
       "      <td>Honey</td>\n",
       "      <td>Buruk</td>\n",
       "    </tr>\n",
       "  </tbody>\n",
       "</table>\n",
       "</div>"
      ],
      "text/plain": [
       "   Kadar Kafein  Tingkat Keasaman Jenis Proses Kualitas Kopi\n",
       "0     71.676050          4.505419        Honey         Buruk\n",
       "1     89.899105          4.777716        Honey         Buruk\n",
       "2    101.782740          5.987926       Washed        Sedang\n",
       "3    112.958351          5.145615      Natural          Baik\n",
       "4     68.571363          4.934300        Honey         Buruk"
      ]
     },
     "execution_count": 25,
     "metadata": {},
     "output_type": "execute_result"
    }
   ],
   "source": [
    "# tampilkan 5 data teratas\n",
    "df.head()"
   ]
  },
  {
   "cell_type": "code",
   "execution_count": 28,
   "id": "ffb1bab2-d42a-447b-bc4c-19abf83aa6d5",
   "metadata": {},
   "outputs": [
    {
     "data": {
      "text/html": [
       "<div>\n",
       "<style scoped>\n",
       "    .dataframe tbody tr th:only-of-type {\n",
       "        vertical-align: middle;\n",
       "    }\n",
       "\n",
       "    .dataframe tbody tr th {\n",
       "        vertical-align: top;\n",
       "    }\n",
       "\n",
       "    .dataframe thead th {\n",
       "        text-align: right;\n",
       "    }\n",
       "</style>\n",
       "<table border=\"1\" class=\"dataframe\">\n",
       "  <thead>\n",
       "    <tr style=\"text-align: right;\">\n",
       "      <th></th>\n",
       "      <th>Kadar Kafein</th>\n",
       "      <th>Tingkat Keasaman</th>\n",
       "      <th>Jenis Proses</th>\n",
       "      <th>Kualitas Kopi</th>\n",
       "    </tr>\n",
       "  </thead>\n",
       "  <tbody>\n",
       "    <tr>\n",
       "      <th>295</th>\n",
       "      <td>105.346259</td>\n",
       "      <td>5.511636</td>\n",
       "      <td>Washed</td>\n",
       "      <td>Sedang</td>\n",
       "    </tr>\n",
       "    <tr>\n",
       "      <th>296</th>\n",
       "      <td>114.917455</td>\n",
       "      <td>5.150439</td>\n",
       "      <td>Natural</td>\n",
       "      <td>Baik</td>\n",
       "    </tr>\n",
       "    <tr>\n",
       "      <th>297</th>\n",
       "      <td>99.558838</td>\n",
       "      <td>5.612135</td>\n",
       "      <td>Washed</td>\n",
       "      <td>Sedang</td>\n",
       "    </tr>\n",
       "    <tr>\n",
       "      <th>298</th>\n",
       "      <td>88.621531</td>\n",
       "      <td>4.803087</td>\n",
       "      <td>Honey</td>\n",
       "      <td>Buruk</td>\n",
       "    </tr>\n",
       "    <tr>\n",
       "      <th>299</th>\n",
       "      <td>98.192872</td>\n",
       "      <td>5.504599</td>\n",
       "      <td>Washed</td>\n",
       "      <td>Sedang</td>\n",
       "    </tr>\n",
       "  </tbody>\n",
       "</table>\n",
       "</div>"
      ],
      "text/plain": [
       "     Kadar Kafein  Tingkat Keasaman Jenis Proses Kualitas Kopi\n",
       "295    105.346259          5.511636       Washed        Sedang\n",
       "296    114.917455          5.150439      Natural          Baik\n",
       "297     99.558838          5.612135       Washed        Sedang\n",
       "298     88.621531          4.803087        Honey         Buruk\n",
       "299     98.192872          5.504599       Washed        Sedang"
      ]
     },
     "execution_count": 28,
     "metadata": {},
     "output_type": "execute_result"
    }
   ],
   "source": [
    "# menampilkan 5 data terbawah\n",
    "df.tail()"
   ]
  },
  {
   "cell_type": "code",
   "execution_count": 30,
   "id": "bb4fefcf-1f11-48a0-ac18-b731f6dc4f84",
   "metadata": {},
   "outputs": [
    {
     "data": {
      "text/plain": [
       "Jenis Proses\n",
       "Natural    103\n",
       "Honey      101\n",
       "Washed      96\n",
       "Name: count, dtype: int64"
      ]
     },
     "execution_count": 30,
     "metadata": {},
     "output_type": "execute_result"
    }
   ],
   "source": [
    "# menampilkan kategori jenis proses beserta jumlahnya\n",
    "df[\"Jenis Proses\"].value_counts()"
   ]
  },
  {
   "cell_type": "code",
   "execution_count": 32,
   "id": "2c276291-c0d6-4c20-95a9-a708158ae1b4",
   "metadata": {},
   "outputs": [
    {
     "data": {
      "text/plain": [
       "Kualitas Kopi\n",
       "Baik      103\n",
       "Buruk      99\n",
       "Sedang     98\n",
       "Name: count, dtype: int64"
      ]
     },
     "execution_count": 32,
     "metadata": {},
     "output_type": "execute_result"
    }
   ],
   "source": [
    "# tampilkan kategori kualitas kopi beserta jumlahnya\n",
    "df[\"Kualitas Kopi\"].value_counts()"
   ]
  },
  {
   "cell_type": "code",
   "execution_count": 73,
   "id": "51c874ef-bd9a-42a6-8bdc-ebf80a20afbc",
   "metadata": {},
   "outputs": [
    {
     "data": {
      "image/png": "[encoded data removed]",
      "text/plain": [
       "<Figure size 600x500 with 1 Axes>"
      ]
     },
     "metadata": {},
     "output_type": "display_data"
    }
   ],
   "source": [
    "# import matplotlib\n",
    "import matplotlib.pyplot as plt\n",
    "\n",
    "# siapkan data\n",
    "baik = df[df[\"Kualitas Kopi\"]==\"Baik\"]\n",
    "sedang = df[df[\"Kualitas Kopi\"]==\"Sedang\"]\n",
    "buruk = df[df[\"Kualitas Kopi\"]==\"Buruk\"]\n",
    "\n",
    "# siapkan figura\n",
    "plt.figure(figsize=(6,5))\n",
    "\n",
    "# tampilkan scater plot\n",
    "plt.scatter(baik[\"Kadar Kafein\"], baik[\"Tingkat Keasaman\"], s=100, color=\"green\", alpha=0.7, label=\"Baik\")\n",
    "plt.scatter(sedang[\"Kadar Kafein\"], sedang [\"Tingkat Keasaman\"], s=100, color=\"orange\", alpha=0.7, label=\"Sedang\")\n",
    "plt.scatter(buruk[\"Kadar Kafein\"], buruk [\"Tingkat Keasaman\"], s=100, color=\"red\", alpha=0.7, label=\"Buruk\")\n",
    "\n",
    "# label untuk label x\n",
    "plt.xlabel(\"Kadar Kafein\")\n",
    "\n",
    "# label untuk label y\n",
    "plt.ylabel(\"Tingkat Keasaman\")\n",
    "\n",
    "#judul tabel\n",
    "plt.title(\"Kadar Kafein VS Tingkat Keasaman\")\n",
    "plt.grid(True, linestyle=\"--\", alpha=0.5)\n",
    "plt.legend()\n",
    "plt.show()"
   ]
  },
  {
   "cell_type": "code",
   "execution_count": 106,
   "id": "031ab5bb-5301-41fe-bdaa-0481d72a90e8",
   "metadata": {},
   "outputs": [
    {
     "name": "stdout",
     "output_type": "stream",
     "text": [
      "Accuracy : 0.9666666666666667\n",
      "\n",
      "Classification Report :\n",
      "               precision    recall  f1-score   support\n",
      "\n",
      "        Baik       1.00      0.94      0.97        18\n",
      "       Buruk       0.96      1.00      0.98        26\n",
      "      Sedang       0.94      0.94      0.94        16\n",
      "\n",
      "    accuracy                           0.97        60\n",
      "   macro avg       0.97      0.96      0.96        60\n",
      "weighted avg       0.97      0.97      0.97        60\n",
      "\n",
      "\n",
      "Confusion Matrix :\n",
      " [[17  0  1]\n",
      " [ 0 26  0]\n",
      " [ 0  1 15]]\n"
     ]
    }
   ],
   "source": [
    "from sklearn. linear_model import LogisticRegression\n",
    "from sklearn. model_selection import train_test_split\n",
    "from sklearn. metrics import accuracy_score, classification_report, confusion_matrix\n",
    "from sklearn.preprocessing import StandardScaler, OneHotEncoder\n",
    "from sklearn.pipeline import Pipeline\n",
    "from sklearn.compose import ColumnTransformer\n",
    "\n",
    "X = df[[\"Kadar Kafein\", \"Tingkat Keasaman\", \"Jenis Proses\"]]\n",
    "y = df[\"Kualitas Kopi\"]\n",
    "\n",
    "X_train, X_test, y_train, y_test = train_test_split(\n",
    "    X, y, test_size=0.2, random_state=42\n",
    ")\n",
    "\n",
    "numeric_columns =[\"Kadar Kafein\", \"Tingkat Keasaman\"]\n",
    "categorical_columns = [\"Jenis Proses\"]\n",
    "\n",
    "preprocessing = ColumnTransformer (\n",
    "    transformers =[\n",
    "        (\"scaler\", StandardScaler(), numeric_columns),\n",
    "        (\"ohe\", OneHotEncoder(), categorical_columns),\n",
    "    ]\n",
    ")\n",
    "\n",
    "model = Pipeline(\n",
    "    steps=[\n",
    "        (\"preprocessing\", preprocessing),\n",
    "        (\"model\", LogisticRegression()),\n",
    "    ]\n",
    ")\n",
    "\n",
    "model.fit(X_train, y_train)\n",
    "\n",
    "y_pred = model.predict(X_test)\n",
    "print(\"Accuracy :\", accuracy_score(y_test, y_pred))\n",
    "\n",
    "print(\"\\nClassification Report :\\n\", classification_report(y_test, y_pred))\n",
    "print(\"\\nConfusion Matrix :\\n\", confusion_matrix(y_test, y_pred))"
   ]
  },
  {
   "cell_type": "code",
   "execution_count": 114,
   "id": "6d64eb12-6006-4561-a9ba-abb73dce857a",
   "metadata": {},
   "outputs": [
    {
     "name": "stdout",
     "output_type": "stream",
     "text": [
      "Prediksi Baik dengan keyakinan 66.49%\n"
     ]
    }
   ],
   "source": [
    "data_baru = pd.DataFrame([[110,5, \"Honey\"]], columns=[\"Kadar Kafein\", \"Tingkat Keasaman\", \"Jenis Proses\"])\n",
    "\n",
    "prediksi = model.predict(data_baru)[0]\n",
    "presentase = max(model.predict_proba(data_baru)[0])\n",
    "\n",
    "print(f\"Prediksi {prediksi} dengan keyakinan {presentase*100:.2f}%\")"
   ]
  },
  {
   "cell_type": "code",
   "execution_count": 117,
   "id": "ffd9c2a1-f657-4091-b972-f1befcb2ea77",
   "metadata": {},
   "outputs": [
    {
     "name": "stdout",
     "output_type": "stream",
     "text": [
      "Prediksi Baik dengan keyakinan 91.67%\n"
     ]
    }
   ],
   "source": [
    "data_baru = pd.DataFrame([[110,5, \"Natural\"]], columns=[\"Kadar Kafein\", \"Tingkat Keasaman\", \"Jenis Proses\"])\n",
    "\n",
    "prediksi = model.predict(data_baru)[0]\n",
    "presentase = max(model.predict_proba(data_baru)[0])\n",
    "\n",
    "print(f\"Prediksi {prediksi} dengan keyakinan {presentase*100:.2f}%\")"
   ]
  },
  {
   "cell_type": "code",
   "execution_count": 116,
   "id": "9119c59b-f987-4762-9723-15bbdb0c48d4",
   "metadata": {},
   "outputs": [
    {
     "name": "stdout",
     "output_type": "stream",
     "text": [
      "Prediksi Baik dengan keyakinan 69.03%\n"
     ]
    }
   ],
   "source": [
    "data_baru = pd.DataFrame([[110,5, \"Washed\"]], columns=[\"Kadar Kafein\", \"Tingkat Keasaman\", \"Jenis Proses\"])\n",
    "\n",
    "prediksi = model.predict(data_baru)[0]\n",
    "presentase = max(model.predict_proba(data_baru)[0])\n",
    "\n",
    "print(f\"Prediksi {prediksi} dengan keyakinan {presentase*100:.2f}%\")"
   ]
  },
  {
   "cell_type": "code",
   "execution_count": 119,
   "id": "d437d00e-3fee-47d4-9cf4-eae2faa4532f",
   "metadata": {},
   "outputs": [
    {
     "data": {
      "text/plain": [
       "['model_klasifikasi_kopi.joblib']"
      ]
     },
     "execution_count": 119,
     "metadata": {},
     "output_type": "execute_result"
    }
   ],
   "source": [
    "import joblib\n",
    "joblib.dump(model, \"model_klasifikasi_kopi.joblib\")"
   ]
  }
 ],
 "metadata": {
  "kernelspec": {
   "display_name": "Python 3 (ipykernel)",
   "language": "python",
   "name": "python3"
  },
  "language_info": {
   "codemirror_mode": {
    "name": "ipython",
    "version": 3
   },
   "file_extension": ".py",
   "mimetype": "text/x-python",
   "name": "python",
   "nbconvert_exporter": "python",
   "pygments_lexer": "ipython3",
   "version": "3.13.5"
  }
 },
 "nbformat": 4,
 "nbformat_minor": 5
}
